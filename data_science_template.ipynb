{
  "nbformat": 4,
  "nbformat_minor": 0,
  "metadata": {
    "colab": {
      "provenance": [],
      "authorship_tag": "ABX9TyMKGQyIcg/iENvhdQ1mdSQl",
      "include_colab_link": true
    },
    "kernelspec": {
      "name": "python3",
      "display_name": "Python 3"
    },
    "language_info": {
      "name": "python"
    }
  },
  "cells": [
    {
      "cell_type": "markdown",
      "metadata": {
        "id": "view-in-github",
        "colab_type": "text"
      },
      "source": [
        "<a href=\"https://colab.research.google.com/github/MattSch1/mlops/blob/main/data_science_template.ipynb\" target=\"_parent\"><img src=\"https://colab.research.google.com/assets/colab-badge.svg\" alt=\"Open In Colab\"/></a>"
      ]
    },
    {
      "cell_type": "markdown",
      "source": [
        "##Ingest\n"
      ],
      "metadata": {
        "id": "bkpiZAt3ETs9"
      }
    },
    {
      "cell_type": "code",
      "execution_count": null,
      "metadata": {
        "id": "mnn5F3Q_EGUK"
      },
      "outputs": [],
      "source": []
    },
    {
      "cell_type": "markdown",
      "source": [
        "##EDA"
      ],
      "metadata": {
        "id": "UO2XeKJuEQhg"
      }
    },
    {
      "cell_type": "code",
      "source": [
        "foo = 'dfd'"
      ],
      "metadata": {
        "id": "5ooBPsJMFCFb"
      },
      "execution_count": 3,
      "outputs": []
    },
    {
      "cell_type": "markdown",
      "source": [
        "##Modeling"
      ],
      "metadata": {
        "id": "o1F5rXD3ExuR"
      }
    },
    {
      "cell_type": "code",
      "source": [],
      "metadata": {
        "id": "6DiDcVvcEzen"
      },
      "execution_count": 2,
      "outputs": []
    },
    {
      "cell_type": "markdown",
      "source": [
        "##Conclusion"
      ],
      "metadata": {
        "id": "xHA1kf4bE8TD"
      }
    },
    {
      "cell_type": "code",
      "source": [],
      "metadata": {
        "id": "QxKgsAhBE9gD"
      },
      "execution_count": null,
      "outputs": []
    }
  ]
}